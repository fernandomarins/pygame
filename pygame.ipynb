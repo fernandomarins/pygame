{
 "cells": [
  {
   "cell_type": "code",
   "execution_count": 1,
   "metadata": {},
   "outputs": [
    {
     "ename": "KeyboardInterrupt",
     "evalue": "",
     "output_type": "error",
     "traceback": [
      "\u001b[0;31m---------------------------------------------------------------------------\u001b[0m",
      "\u001b[0;31mKeyboardInterrupt\u001b[0m                         Traceback (most recent call last)",
      "\u001b[0;32m<ipython-input-1-c6d99d4994b0>\u001b[0m in \u001b[0;36m<module>\u001b[0;34m()\u001b[0m\n\u001b[1;32m     72\u001b[0m         \u001b[0;32melif\u001b[0m \u001b[0mx\u001b[0m \u001b[0;34m+\u001b[0m \u001b[0;36m40\u001b[0m \u001b[0;34m>=\u001b[0m \u001b[0mtreasureX\u001b[0m \u001b[0;32mand\u001b[0m \u001b[0mx\u001b[0m \u001b[0;34m+\u001b[0m \u001b[0;36m35\u001b[0m \u001b[0;34m<=\u001b[0m \u001b[0mtreasureX\u001b[0m \u001b[0;34m+\u001b[0m \u001b[0;36m35\u001b[0m\u001b[0;34m:\u001b[0m\u001b[0;34m\u001b[0m\u001b[0m\n\u001b[1;32m     73\u001b[0m             \u001b[0mscreen\u001b[0m\u001b[0;34m.\u001b[0m\u001b[0mblit\u001b[0m\u001b[0;34m(\u001b[0m\u001b[0mtextWin\u001b[0m\u001b[0;34m,\u001b[0m \u001b[0;34m(\u001b[0m\u001b[0;36m300\u001b[0m\u001b[0;34m,\u001b[0m \u001b[0;36m300\u001b[0m\u001b[0;34m)\u001b[0m\u001b[0;34m)\u001b[0m\u001b[0;34m\u001b[0m\u001b[0m\n\u001b[0;32m---> 74\u001b[0;31m     \u001b[0mpygame\u001b[0m\u001b[0;34m.\u001b[0m\u001b[0mdisplay\u001b[0m\u001b[0;34m.\u001b[0m\u001b[0mflip\u001b[0m\u001b[0;34m(\u001b[0m\u001b[0;34m)\u001b[0m\u001b[0;34m\u001b[0m\u001b[0m\n\u001b[0m\u001b[1;32m     75\u001b[0m     \u001b[0mframe\u001b[0m\u001b[0;34m.\u001b[0m\u001b[0mtick\u001b[0m\u001b[0;34m(\u001b[0m\u001b[0;36m30\u001b[0m\u001b[0;34m)\u001b[0m\u001b[0;34m\u001b[0m\u001b[0m\n",
      "\u001b[0;31mKeyboardInterrupt\u001b[0m: "
     ]
    }
   ],
   "source": [
    "import pygame\n",
    "\n",
    "pygame.init()\n",
    "screen = pygame.display.set_mode((900, 700))\n",
    "\n",
    "# if the game is finished or not\n",
    "finished = False\n",
    "# x and y coordenates\n",
    "x = 0\n",
    "y = 50\n",
    "\n",
    "# adding image\n",
    "playerImage = pygame.image.load('player.png')\n",
    "playerImage = pygame.transform.scale(playerImage, (35, 40))\n",
    "# make sure image is transparent so the background is displayed\n",
    "playerImage = playerImage.convert_alpha()\n",
    "\n",
    "backgroundImage = pygame.image.load('background.png')\n",
    "backgroundImage = pygame.transform.scale(backgroundImage, (900, 700))\n",
    "screen.blit(backgroundImage, (0, 0))\n",
    "\n",
    "treasureImage = pygame.image.load('treasure.png')\n",
    "treasureImage = pygame.transform.scale(treasureImage, (35, 40))\n",
    "treasureImage = treasureImage.convert_alpha()\n",
    "\n",
    "treasureX, treasureY = 450 - 35/2, 50\n",
    "screen.blit(treasureImage, (treasureX, treasureY))\n",
    "\n",
    "font = pygame.font.SysFont(\"comicsans\", 60)\n",
    "textWin = font.render(\"Great job!\", True, (0, 0, 0))\n",
    "\n",
    "frame = pygame.time.Clock()\n",
    "while finished == False:\n",
    "    for event in pygame.event.get():\n",
    "        # to detect if the game should end\n",
    "        if event.type == pygame.QUIT:\n",
    "            finised = True\n",
    "        \n",
    "    # array containing all the keys pressed by the user\n",
    "    pressedKeys = pygame.key.get_pressed()\n",
    "    # K_SPACE means the space key\n",
    "    if pressedKeys[pygame.K_RIGHT] == 1:\n",
    "        # if the space key is pressed, add 5 to x (move the object)\n",
    "        x += 5\n",
    "    \n",
    "    if pressedKeys[pygame.K_DOWN] == 1:\n",
    "        # if the space key is pressed, add 5 to x (move the object)\n",
    "        y += 5\n",
    "        \n",
    "    if pressedKeys[pygame.K_LEFT] == 1:\n",
    "        # if the space key is pressed, add 5 to x (move the object)\n",
    "        x -= 5\n",
    "        \n",
    "    if pressedKeys[pygame.K_UP] == 1:\n",
    "        # if the space key is pressed, add 5 to x (move the object)\n",
    "        y -= 5\n",
    "\n",
    "    \n",
    "    white = (255, 255, 255)\n",
    "    screen.blit(backgroundImage, (0, 0))\n",
    "    screen.blit(treasureImage, (treasureX, treasureY))\n",
    "    screen.blit(playerImage, (x, y))\n",
    "    \n",
    "    if y >= treasureY and y <= treasureY + 40:\n",
    "        if x >= treasureX and x <= treasureX + 35:\n",
    "            screen.blit(textWin, (300, 300))\n",
    "        elif x + 40 >= treasureX and x + 35 <= treasureX + 35:\n",
    "            screen.blit(textWin, (300, 300))\n",
    "    elif y + 40 >= treasureY and y + 40 <= treasureY + 40:\n",
    "        if x + 40 >= treasureX and x + 40 <= treasureX + 35:\n",
    "            screen.blit(textWin, (300, 300))\n",
    "        elif x + 40 >= treasureX and x + 35 <= treasureX + 35:\n",
    "            screen.blit(textWin, (300, 300))\n",
    "    pygame.display.flip()\n",
    "    frame.tick(30)"
   ]
  },
  {
   "cell_type": "code",
   "execution_count": null,
   "metadata": {
    "collapsed": true
   },
   "outputs": [],
   "source": []
  }
 ],
 "metadata": {
  "kernelspec": {
   "display_name": "Python 2",
   "language": "python",
   "name": "python2"
  },
  "language_info": {
   "codemirror_mode": {
    "name": "ipython",
    "version": 2
   },
   "file_extension": ".py",
   "mimetype": "text/x-python",
   "name": "python",
   "nbconvert_exporter": "python",
   "pygments_lexer": "ipython2",
   "version": "2.7.13"
  }
 },
 "nbformat": 4,
 "nbformat_minor": 1
}
